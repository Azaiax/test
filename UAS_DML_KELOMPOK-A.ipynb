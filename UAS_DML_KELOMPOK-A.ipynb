{
 "cells": [
  {
   "cell_type": "code",
   "execution_count": null,
   "id": "440708c9",
   "metadata": {},
   "outputs": [],
   "source": [
    "tokenizer = BertTokenizer.from_pretrained(\"bert-base-uncased\")\n",
    "\n",
    "texts = df['body'].fillna(\"\").tolist()\n",
    "labels = df['label'].tolist()\n",
    "\n",
    "encodings = tokenizer(texts, truncation=True, padding=True, max_length=512, return_tensors='pt')"
   ]
  },
  {
   "cell_type": "code",
   "execution_count": null,
   "id": "d89b3692",
   "metadata": {},
   "outputs": [],
   "source": [
    "X_train, X_val, y_train, y_val = train_test_split(\n",
    "    encodings['input_ids'], labels, test_size=0.2, random_state=42, stratify=labels\n",
    ")\n",
    "\n",
    "attention_train, attention_val = train_test_split(\n",
    "    encodings['attention_mask'], test_size=0.2, random_state=42, stratify=labels\n",
    ")\n",
    "\n",
    "train_dataset = TensorDataset(X_train, attention_train, torch.tensor(y_train))\n",
    "val_dataset = TensorDataset(X_val, attention_val, torch.tensor(y_val))\n",
    "\n",
    "train_loader = DataLoader(train_dataset, batch_size=8)\n",
    "val_loader = DataLoader(val_dataset, batch_size=8)\n"
   ]
  }
 ],
 "metadata": {
  "language_info": {
   "name": "python"
  }
 },
 "nbformat": 4,
 "nbformat_minor": 5
}
