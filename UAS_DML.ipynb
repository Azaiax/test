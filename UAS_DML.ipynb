{
 "cells": [
  {
   "cell_type": "code",
   "execution_count": 1,
   "id": "ab55e2d1",
   "metadata": {},
   "outputs": [],
   "source": [
    "import pandas as pd\n",
    "from sklearn.model_selection import train_test_split\n",
    "\n",
    "df = pd.read_csv(\"dataset_testing.csv\")\n",
    "\n",
    "df = df[df[\"type\"].isin([\"primary\", \"secondary\"])]\n",
    "# Label encode\n",
    "df[\"type\"] = df[\"type\"].map({\"primary\": 1, \"secondary\": 0})\n",
    "\n",
    "# Split\n",
    "train_texts, val_texts, train_labels, val_labels = train_test_split(\n",
    "    df[\"text\"].tolist(), df[\"type\"].tolist(), test_size=0.2, stratify=df[\"type\"]\n",
    ")"
   ]
  },
  {
   "cell_type": "code",
   "execution_count": 2,
   "id": "7fa78c30",
   "metadata": {},
   "outputs": [
    {
     "name": "stderr",
     "output_type": "stream",
     "text": [
      "C:\\Users\\aqiza\\AppData\\Local\\Packages\\PythonSoftwareFoundation.Python.3.13_qbz5n2kfra8p0\\LocalCache\\local-packages\\Python313\\site-packages\\tqdm\\auto.py:21: TqdmWarning: IProgress not found. Please update jupyter and ipywidgets. See https://ipywidgets.readthedocs.io/en/stable/user_install.html\n",
      "  from .autonotebook import tqdm as notebook_tqdm\n",
      "Some weights of BertForSequenceClassification were not initialized from the model checkpoint at allenai/scibert_scivocab_uncased and are newly initialized: ['classifier.bias', 'classifier.weight']\n",
      "You should probably TRAIN this model on a down-stream task to be able to use it for predictions and inference.\n"
     ]
    }
   ],
   "source": [
    "from transformers import AutoTokenizer, AutoModelForSequenceClassification\n",
    "\n",
    "model_name = \"allenai/scibert_scivocab_uncased\"\n",
    "tokenizer = AutoTokenizer.from_pretrained(model_name)\n",
    "model = AutoModelForSequenceClassification.from_pretrained(model_name, num_labels=2)"
   ]
  },
  {
   "cell_type": "code",
   "execution_count": 3,
   "id": "c7991ebb",
   "metadata": {},
   "outputs": [
    {
     "name": "stderr",
     "output_type": "stream",
     "text": [
      "Map: 100%|██████████| 72/72 [00:00<00:00, 1265.63 examples/s]\n",
      "Map: 100%|██████████| 19/19 [00:00<00:00, 3136.11 examples/s]\n"
     ]
    }
   ],
   "source": [
    "from datasets import Dataset\n",
    "\n",
    "train_ds = Dataset.from_dict({\"text\": train_texts, \"label\": train_labels})\n",
    "val_ds = Dataset.from_dict({\"text\": val_texts, \"label\": val_labels})\n",
    "\n",
    "def tokenize_fn(example):\n",
    "    return tokenizer(example[\"text\"], padding=\"max_length\", truncation=True, max_length=256)\n",
    "\n",
    "train_ds = train_ds.map(tokenize_fn, batched=True)\n",
    "val_ds = val_ds.map(tokenize_fn, batched=True)\n",
    "\n",
    "train_ds.set_format(\"torch\", columns=[\"input_ids\", \"attention_mask\", \"label\"])\n",
    "val_ds.set_format(\"torch\", columns=[\"input_ids\", \"attention_mask\", \"label\"])"
   ]
  },
  {
   "cell_type": "code",
   "execution_count": 4,
   "id": "60edf63d",
   "metadata": {},
   "outputs": [
    {
     "name": "stderr",
     "output_type": "stream",
     "text": [
      "C:\\Users\\aqiza\\AppData\\Local\\Packages\\PythonSoftwareFoundation.Python.3.13_qbz5n2kfra8p0\\LocalCache\\local-packages\\Python313\\site-packages\\torch\\utils\\data\\dataloader.py:665: UserWarning: 'pin_memory' argument is set as true but no accelerator is found, then device pinned memory won't be used.\n",
      "  warnings.warn(warn_msg)\n",
      "C:\\Users\\aqiza\\AppData\\Local\\Packages\\PythonSoftwareFoundation.Python.3.13_qbz5n2kfra8p0\\LocalCache\\local-packages\\Python313\\site-packages\\torch\\nn\\modules\\module.py:1762: FutureWarning: `encoder_attention_mask` is deprecated and will be removed in version 4.55.0 for `BertSdpaSelfAttention.forward`.\n",
      "  return forward_call(*args, **kwargs)\n"
     ]
    },
    {
     "data": {
      "text/html": [
       "\n",
       "    <div>\n",
       "      \n",
       "      <progress value='27' max='27' style='width:300px; height:20px; vertical-align: middle;'></progress>\n",
       "      [27/27 01:59, Epoch 3/3]\n",
       "    </div>\n",
       "    <table border=\"1\" class=\"dataframe\">\n",
       "  <thead>\n",
       " <tr style=\"text-align: left;\">\n",
       "      <th>Step</th>\n",
       "      <th>Training Loss</th>\n",
       "    </tr>\n",
       "  </thead>\n",
       "  <tbody>\n",
       "    <tr>\n",
       "      <td>10</td>\n",
       "      <td>0.774800</td>\n",
       "    </tr>\n",
       "    <tr>\n",
       "      <td>20</td>\n",
       "      <td>0.438400</td>\n",
       "    </tr>\n",
       "  </tbody>\n",
       "</table><p>"
      ],
      "text/plain": [
       "<IPython.core.display.HTML object>"
      ]
     },
     "metadata": {},
     "output_type": "display_data"
    },
    {
     "data": {
      "text/plain": [
       "TrainOutput(global_step=27, training_loss=0.521259793528804, metrics={'train_runtime': 122.7358, 'train_samples_per_second': 1.76, 'train_steps_per_second': 0.22, 'total_flos': 28415993978880.0, 'train_loss': 0.521259793528804, 'epoch': 3.0})"
      ]
     },
     "execution_count": 4,
     "metadata": {},
     "output_type": "execute_result"
    }
   ],
   "source": [
    "from transformers import TrainingArguments, Trainer\n",
    "\n",
    "training_args = TrainingArguments(\n",
    "    output_dir=\"./scibert_citation\",\n",
    "    per_device_train_batch_size=8,\n",
    "    per_device_eval_batch_size=8,\n",
    "    num_train_epochs=3,\n",
    "    logging_steps=10,\n",
    "    save_steps=500\n",
    ")\n",
    "\n",
    "trainer = Trainer(\n",
    "    model=model,\n",
    "    args=training_args,\n",
    "    train_dataset=train_ds,\n",
    "    eval_dataset=val_ds,\n",
    ")\n",
    "\n",
    "trainer.train()"
   ]
  },
  {
   "cell_type": "code",
   "execution_count": 5,
   "id": "343199aa",
   "metadata": {},
   "outputs": [
    {
     "name": "stderr",
     "output_type": "stream",
     "text": [
      "C:\\Users\\aqiza\\AppData\\Local\\Packages\\PythonSoftwareFoundation.Python.3.13_qbz5n2kfra8p0\\LocalCache\\local-packages\\Python313\\site-packages\\torch\\utils\\data\\dataloader.py:665: UserWarning: 'pin_memory' argument is set as true but no accelerator is found, then device pinned memory won't be used.\n",
      "  warnings.warn(warn_msg)\n",
      "C:\\Users\\aqiza\\AppData\\Local\\Packages\\PythonSoftwareFoundation.Python.3.13_qbz5n2kfra8p0\\LocalCache\\local-packages\\Python313\\site-packages\\torch\\nn\\modules\\module.py:1762: FutureWarning: `encoder_attention_mask` is deprecated and will be removed in version 4.55.0 for `BertSdpaSelfAttention.forward`.\n",
      "  return forward_call(*args, **kwargs)\n"
     ]
    },
    {
     "data": {
      "text/html": [
       "\n",
       "    <div>\n",
       "      \n",
       "      <progress value='3' max='3' style='width:300px; height:20px; vertical-align: middle;'></progress>\n",
       "      [3/3 00:01]\n",
       "    </div>\n",
       "    "
      ],
      "text/plain": [
       "<IPython.core.display.HTML object>"
      ]
     },
     "metadata": {},
     "output_type": "display_data"
    },
    {
     "data": {
      "text/plain": [
       "{'eval_loss': 0.3605559170246124,\n",
       " 'eval_runtime': 3.3791,\n",
       " 'eval_samples_per_second': 5.623,\n",
       " 'eval_steps_per_second': 0.888,\n",
       " 'epoch': 3.0}"
      ]
     },
     "execution_count": 5,
     "metadata": {},
     "output_type": "execute_result"
    }
   ],
   "source": [
    "trainer.evaluate()"
   ]
  },
  {
   "cell_type": "code",
   "execution_count": 6,
   "id": "d0358250",
   "metadata": {},
   "outputs": [
    {
     "data": {
      "text/plain": [
       "('scibert_citation_classifier\\\\tokenizer_config.json',\n",
       " 'scibert_citation_classifier\\\\special_tokens_map.json',\n",
       " 'scibert_citation_classifier\\\\vocab.txt',\n",
       " 'scibert_citation_classifier\\\\added_tokens.json',\n",
       " 'scibert_citation_classifier\\\\tokenizer.json')"
      ]
     },
     "execution_count": 6,
     "metadata": {},
     "output_type": "execute_result"
    }
   ],
   "source": [
    "model.save_pretrained(\"scibert_citation_classifier\")\n",
    "tokenizer.save_pretrained(\"scibert_citation_classifier\")"
   ]
  },
  {
   "cell_type": "code",
   "execution_count": 7,
   "id": "96656468",
   "metadata": {},
   "outputs": [],
   "source": [
    "test_text = \"The method is based on the integration of data from satellite photos and data from certified, publicly accessible shoreline data.\""
   ]
  },
  {
   "cell_type": "code",
   "execution_count": 8,
   "id": "13400439",
   "metadata": {},
   "outputs": [
    {
     "name": "stdout",
     "output_type": "stream",
     "text": [
      "Predicted label: Secondary\n"
     ]
    }
   ],
   "source": [
    "import torch\n",
    "\n",
    "# Pilih device\n",
    "device = torch.device(\"cuda\" if torch.cuda.is_available() else \"cpu\")\n",
    "model.to(device)\n",
    "\n",
    "# Tokenisasi dan pindahkan ke device\n",
    "inputs = tokenizer(test_text, return_tensors=\"pt\", truncation=True, padding=True, max_length=256)\n",
    "inputs = {k: v.to(device) for k, v in inputs.items()}\n",
    "\n",
    "# Prediksi\n",
    "model.eval()\n",
    "with torch.no_grad():\n",
    "    outputs = model(**inputs)\n",
    "    pred_label = outputs.logits.argmax(dim=1).item()\n",
    "\n",
    "# Interpretasi\n",
    "label_map = {1: \"Primary\", 0: \"Secondary\"}\n",
    "print(\"Predicted label:\", label_map[pred_label])"
   ]
  },
  {
   "cell_type": "code",
   "execution_count": 10,
   "id": "ad9c8c22",
   "metadata": {},
   "outputs": [
    {
     "name": "stdout",
     "output_type": "stream",
     "text": [
      "Note: you may need to restart the kernel to use updated packages.\n"
     ]
    }
   ],
   "source": [
    "%pip install pymupdf nltk --quiet"
   ]
  },
  {
   "cell_type": "code",
   "execution_count": 9,
   "id": "0702aa6a",
   "metadata": {},
   "outputs": [
    {
     "name": "stderr",
     "output_type": "stream",
     "text": [
      "[nltk_data] Downloading package punkt to\n",
      "[nltk_data]     C:\\Users\\aqiza\\AppData\\Roaming\\nltk_data...\n",
      "[nltk_data]   Package punkt is already up-to-date!\n"
     ]
    }
   ],
   "source": [
    "import fitz  # PyMuPDF\n",
    "import nltk\n",
    "nltk.download(\"punkt\")\n",
    "from nltk.tokenize import sent_tokenize\n",
    "import torch"
   ]
  },
  {
   "cell_type": "code",
   "execution_count": 10,
   "id": "ab2f83ae",
   "metadata": {},
   "outputs": [],
   "source": [
    "def extract_sentences_from_pdf(pdf_path):\n",
    "    doc = fitz.open(pdf_path)\n",
    "    full_text = \"\"\n",
    "    for page in doc:\n",
    "        full_text += page.get_text()\n",
    "    # Split manual dengan titik\n",
    "    sentences = [s.strip() for s in full_text.split('.') if len(s.strip().split()) > 4]\n",
    "    return sentences"
   ]
  },
  {
   "cell_type": "code",
   "execution_count": 11,
   "id": "d402a8cd",
   "metadata": {},
   "outputs": [],
   "source": [
    "def predict_sentences(sentences, model, tokenizer, device):\n",
    "    label_map = {1: \"Primary\", 0: \"Secondary\"}\n",
    "    predictions = []\n",
    "\n",
    "    model.to(device)\n",
    "    model.eval()\n",
    "\n",
    "    for sent in sentences:\n",
    "        inputs = tokenizer(sent, return_tensors=\"pt\", truncation=True, padding=True, max_length=256)\n",
    "        inputs = {k: v.to(device) for k, v in inputs.items()}\n",
    "        with torch.no_grad():\n",
    "            outputs = model(**inputs)\n",
    "            pred = torch.argmax(outputs.logits, dim=1).item()\n",
    "        predictions.append((sent, label_map[pred]))\n",
    "\n",
    "    return predictions"
   ]
  },
  {
   "cell_type": "code",
   "execution_count": 12,
   "id": "a9515326",
   "metadata": {},
   "outputs": [
    {
     "name": "stderr",
     "output_type": "stream",
     "text": [
      "[nltk_data] Downloading package punkt to\n",
      "[nltk_data]     C:\\Users\\aqiza\\AppData\\Roaming\\nltk_data...\n",
      "[nltk_data]   Package punkt is already up-to-date!\n"
     ]
    },
    {
     "data": {
      "text/plain": [
       "True"
      ]
     },
     "execution_count": 12,
     "metadata": {},
     "output_type": "execute_result"
    }
   ],
   "source": [
    "import nltk\n",
    "nltk.download('punkt')"
   ]
  },
  {
   "cell_type": "code",
   "execution_count": 13,
   "id": "fa26ad47",
   "metadata": {},
   "outputs": [
    {
     "name": "stdout",
     "output_type": "stream",
     "text": [
      "1. [Primary] Data, 16, 1265–1282, 2024\n",
      "https://doi\n",
      "\n",
      "2. [Primary] This work is distributed under\n",
      "the Creative Commons Attribution 4\n",
      "\n",
      "3. [Primary] Metazoan zooplankton in the Bay of Biscay: a 16-year\n",
      "record of individual sizes and abundances obtained\n",
      "using the ZooScan and ZooCAM imaging systems\n",
      "Nina Grandremy1,⋆, Paul Bourriau1, Edwin Daché2, Marie-Madeleine Danielou3, Mathieu Doray1,\n",
      "Christine Dupuy4, Bertrand Forest5, Laetitia Jalabert6, Martin Huret7, Sophie Le Mestre7,\n",
      "Antoine Nowaczyk8, Pierre Petitgas9, Philippe Pineau4, Justin Rouxel10, Morgan Tardivel10, and\n",
      "Jean-Baptiste Romagnan1,⋆\n",
      "1DECOD (Ecosystem Dynamics and Sustainability), IFREMER, INRAE, Institut Agro, Nantes,\n",
      "Centre Atlantique, Rue de l’Ile d’Yeu, BP 21105, 44311 Nantes CEDEX 03, France\n",
      "2Unité Biologie et Ecologie des Ecosystèmes marins Profonds, Laboratoire Environnement Profond,\n",
      "Ifremer Centre Bretagne, ZI de la Pointe du Diable, CS 10070, 29280 Plouzané, France\n",
      "3Unité DYNECO-PELAGOS, Laboratoire d’Ecologie Pélagique, Ifremer Centre Bretagne,\n",
      "ZI de la Pointe du Diable, CS 10070, 29280 Plouzané, France\n",
      "4BIOFEEL, UMRi LIENSs, La Rochelle University/CNRS, 2, rue Olympe de Gouges,\n",
      "17000 La Rochelle, France\n",
      "5Laboratoire Hydrodynamique Marine, Unité RDT, Ifremer Centre Bretagne, ZI de la Pointe du Diable, CS\n",
      "10070, 29280 Plouzané, France\n",
      "6Sorbonne Université, Institut de la Mer de Villefranche, 06230 Villefranche-sur-mer, France\n",
      "7DECOD (Ecosystem Dynamics and Sustainability), IFREMER, INRAE, Institut Agro, Centre Bretagne,\n",
      "ZI de la Pointe du Diable, CS 10070, 29280 Plouzané, France\n",
      "8UMR CNRS 5805 EPOC–OASU, Station Marine d’Arcachon, Université de Bordeaux,\n",
      "2 Rue du Professeur Jolyet, 33120 Arcachon, France\n",
      "9Departement Ressources Biologiques et Environnement, Ifremer Centre Atlantique, Rue de l’Ile d’Yeu,\n",
      "BP 21105, 44311 Nantes CEDEX 03, France\n",
      "10Laboratoire Détection, Capteurs et Mesures, Unité RDT, Ifremer Centre Bretagne, ZI de la Pointe du Diable,\n",
      "CS 10070, 29280 Plouzané, France\n",
      "⋆These authors contributed equally to this work\n",
      "\n",
      "4. [Primary] com) and Jean-Baptiste Romagnan\n",
      "(jean\n",
      "\n",
      "5. [Primary] fr)\n",
      "Received: 13 May 2023 – Discussion started: 1 June 2023\n",
      "Revised: 11 December 2023 – Accepted: 15 December 2023 – Published: 13 March 2024\n",
      "Abstract\n",
      "\n",
      "6. [Primary] This paper presents two metazoan zooplankton datasets obtained by imaging samples collected on\n",
      "the Bay of Biscay continental shelf in spring during the PELGAS (PELagique GAScogne) integrated surveys\n",
      "over the 2004–2019 period\n",
      "\n",
      "7. [Primary] The samples were collected at night with a 200 µm mesh-size WP2 net ﬁtted with\n",
      "a Hydrobios (back-run stop) mechanical ﬂowmeter and hauled vertically from the sea ﬂoor to the surface, with\n",
      "the maximum depth set at 100 m when the bathymetry was deeper than this\n",
      "\n",
      "8. [Primary] The ﬁrst dataset originates from\n",
      "samples collected from 2004 to 2016 and imaged on land with the ZooScan and is composed of 1 153 507 imaged\n",
      "and measured objects\n",
      "\n",
      "9. [Primary] The second dataset originates from samples collected from 2016 to 2019 and imaged\n",
      "onboard the R/V Thalassa with the ZooCAM and is composed of 702 111 imaged and measured objects\n",
      "\n",
      "10. [Primary] The\n",
      "imaged objects are composed of zooplankton individuals, zooplankton pieces, non-living particles and imaging\n",
      "artefacts ranging from 300 µm to 3\n",
      "\n"
     ]
    }
   ],
   "source": [
    "pdf_path = \"10.5194_essd-2023-187.pdf\"  # ganti sesuai nama file PDF kamu\n",
    "device = torch.device(\"cuda\" if torch.cuda.is_available() else \"cpu\")\n",
    "\n",
    "# Ekstrak & prediksi\n",
    "sentences = extract_sentences_from_pdf(pdf_path)\n",
    "results = predict_sentences(sentences, model, tokenizer, device)\n",
    "\n",
    "# Tampilkan 10 hasil pertama\n",
    "for i, (text, label) in enumerate(results[:10]):\n",
    "    print(f\"{i+1}. [{label}] {text}\\n\")"
   ]
  },
  {
   "cell_type": "code",
   "execution_count": 20,
   "id": "b9a8eeb1",
   "metadata": {},
   "outputs": [
    {
     "name": "stderr",
     "output_type": "stream",
     "text": [
      "C:\\Users\\aqiza\\AppData\\Local\\Packages\\PythonSoftwareFoundation.Python.3.13_qbz5n2kfra8p0\\LocalCache\\local-packages\\Python313\\site-packages\\torch\\nn\\modules\\module.py:1762: FutureWarning: `encoder_attention_mask` is deprecated and will be removed in version 4.55.0 for `BertSdpaSelfAttention.forward`.\n",
      "  return forward_call(*args, **kwargs)\n"
     ]
    },
    {
     "data": {
      "image/png": "[encoded data removed]",
      "text/plain": [
       "<Figure size 600x500 with 2 Axes>"
      ]
     },
     "metadata": {},
     "output_type": "display_data"
    },
    {
     "name": "stdout",
     "output_type": "stream",
     "text": [
      "\n",
      "Classification Report:\n",
      "\n",
      "              precision    recall  f1-score   support\n",
      "\n",
      "     Primary       0.83      1.00      0.91        10\n",
      "   Secondary       1.00      0.78      0.88         9\n",
      "\n",
      "    accuracy                           0.89        19\n",
      "   macro avg       0.92      0.89      0.89        19\n",
      "weighted avg       0.91      0.89      0.89        19\n",
      "\n"
     ]
    }
   ],
   "source": [
    "import matplotlib.pyplot as plt\n",
    "import seaborn as sns\n",
    "from sklearn.metrics import confusion_matrix, ConfusionMatrixDisplay, f1_score, classification_report\n",
    "\n",
    "# Use val_labels as y_true\n",
    "y_true = [\"Primary\" if l == 1 else \"Secondary\" for l in val_labels]\n",
    "\n",
    "# Generate predictions for validation set\n",
    "model.eval()\n",
    "val_preds = []\n",
    "label_map = {1: \"Primary\", 0: \"Secondary\"}\n",
    "device = model.device\n",
    "\n",
    "for text in val_texts:\n",
    "\tinputs = tokenizer(text, return_tensors=\"pt\", truncation=True, padding=True, max_length=256)\n",
    "\tinputs = {k: v.to(device) for k, v in inputs.items()}\n",
    "\twith torch.no_grad():\n",
    "\t\toutputs = model(**inputs)\n",
    "\t\tpred = outputs.logits.argmax(dim=1).item()\n",
    "\tval_preds.append(label_map[pred])\n",
    "\n",
    "# Confusion matrix\n",
    "cm = confusion_matrix(y_true, val_preds, labels=[\"Primary\", \"Secondary\"])\n",
    "f1_macro = f1_score(y_true, val_preds, average='macro')\n",
    "f1_weighted = f1_score(y_true, val_preds, average='weighted')\n",
    "\n",
    "plt.figure(figsize=(6, 5))\n",
    "sns.heatmap(cm, annot=True, fmt=\"d\", cmap=\"YlGnBu\", xticklabels=[\"Primary\", \"Secondary\"], yticklabels=[\"Primary\", \"Secondary\"])\n",
    "plt.xlabel(\"Predicted Label\")\n",
    "plt.ylabel(\"True Label\")\n",
    "plt.title(f\"Confusion Matrix - SciBERT\\nF1 Macro: {f1_macro:.2f} | F1 Weighted: {f1_weighted:.2f}\")\n",
    "plt.show()\n",
    "\n",
    "# Optional: print laporan lengkap\n",
    "print(\"\\nClassification Report:\\n\")\n",
    "print(classification_report(y_true, val_preds))"
   ]
  },
  {
   "cell_type": "code",
   "execution_count": 21,
   "id": "80ebab3c",
   "metadata": {},
   "outputs": [
    {
     "data": {
      "text/plain": [
       "type\n",
       "1    46\n",
       "0    45\n",
       "Name: count, dtype: int64"
      ]
     },
     "execution_count": 21,
     "metadata": {},
     "output_type": "execute_result"
    }
   ],
   "source": [
    "df[\"type\"].value_counts()"
   ]
  },
  {
   "cell_type": "code",
   "execution_count": 22,
   "id": "ab6e6e74",
   "metadata": {},
   "outputs": [],
   "source": [
    "import pandas as pd\n",
    "\n",
    "df = pd.read_csv(\"train_labels.csv\")\n",
    "df = df[df[\"type\"].isin([\"primer\", \"sekunder\"])]  # Hapus yang missing\n",
    "df[\"label\"] = df[\"type\"].map({\"primer\": 1, \"sekunder\": 0})"
   ]
  },
  {
   "cell_type": "code",
   "execution_count": 23,
   "id": "7e4374e7",
   "metadata": {},
   "outputs": [
    {
     "name": "stdout",
     "output_type": "stream",
     "text": [
      "Index(['article_id', 'dataset_id', 'type', 'label'], dtype='object')\n"
     ]
    }
   ],
   "source": [
    "print(df.columns)"
   ]
  },
  {
   "cell_type": "code",
   "execution_count": 24,
   "id": "96de9870",
   "metadata": {},
   "outputs": [],
   "source": [
    "def predict_article(file_path):\n",
    "    text = extract_text_from_pdf(file_path)\n",
    "    inputs = tokenizer(text, return_tensors=\"pt\", truncation=True, padding=True, max_length=512)\n",
    "    inputs = {k: v.to(device) for k, v in inputs.items()}\n",
    "    model.eval()\n",
    "    with torch.no_grad():\n",
    "        outputs = model(**inputs)\n",
    "        pred = outputs.logits.argmax(dim=1).item()\n",
    "    return \"Primer\" if pred == 1 else \"Sekunder\""
   ]
  },
  {
   "cell_type": "code",
   "execution_count": 25,
   "id": "8e9a0b48",
   "metadata": {},
   "outputs": [],
   "source": [
    "import fitz  # PyMuPDF\n",
    "\n",
    "def extract_text_from_pdf(file_path):\n",
    "    doc = fitz.open(file_path)\n",
    "    text = \"\\n\".join([page.get_text() for page in doc])\n",
    "    return text"
   ]
  },
  {
   "cell_type": "code",
   "execution_count": 26,
   "id": "7f109c7b",
   "metadata": {},
   "outputs": [
    {
     "name": "stdout",
     "output_type": "stream",
     "text": [
      "Label prediksi artikel: Primer\n"
     ]
    },
    {
     "name": "stderr",
     "output_type": "stream",
     "text": [
      "C:\\Users\\aqiza\\AppData\\Local\\Packages\\PythonSoftwareFoundation.Python.3.13_qbz5n2kfra8p0\\LocalCache\\local-packages\\Python313\\site-packages\\torch\\nn\\modules\\module.py:1762: FutureWarning: `encoder_attention_mask` is deprecated and will be removed in version 4.55.0 for `BertSdpaSelfAttention.forward`.\n",
      "  return forward_call(*args, **kwargs)\n"
     ]
    }
   ],
   "source": [
    "# Misal nama file PDF-nya:\n",
    "file_path = \"10.5194_essd-2023-187.pdf\"\n",
    "\n",
    "# Panggil fungsi prediksi\n",
    "hasil = predict_article(file_path)\n",
    "\n",
    "# Cetak hasil\n",
    "print(\"Label prediksi artikel:\", hasil)"
   ]
  },
  {
   "cell_type": "code",
   "execution_count": 27,
   "id": "7e228eab",
   "metadata": {},
   "outputs": [
    {
     "name": "stdout",
     "output_type": "stream",
     "text": [
      "10.1002_2017jc013030.pdf → Primer\n",
      "10.1002_anie.201916483.pdf → Primer\n",
      "10.1002_anie.202005531.pdf → Primer\n",
      "10.1002_anie.202007717.pdf → Primer\n",
      "10.1002_chem.201902131.pdf → Primer\n",
      "10.1002_chem.201903120.pdf → Primer\n",
      "10.1002_chem.202000235.pdf → Primer\n",
      "10.1002_chem.202001412.pdf → Primer\n",
      "10.1002_chem.202001668.pdf → Primer\n",
      "10.1002_chem.202003167.pdf → Primer\n",
      "10.1002_cssc.202201821.pdf → Primer\n",
      "10.1002_ece3.3985.pdf → Primer\n",
      "10.1002_ece3.4466.pdf → Primer\n",
      "10.1002_ece3.5260.pdf → Primer\n",
      "10.1002_ece3.5395.pdf → Primer\n",
      "10.1002_ece3.6144.pdf → Primer\n",
      "10.1002_ece3.6303.pdf → Primer\n",
      "10.1002_ece3.6784.pdf → Primer\n",
      "10.1002_ece3.961.pdf → Primer\n",
      "10.1002_ece3.9627.pdf → Primer\n",
      "10.1002_ecs2.1280.pdf → Primer\n",
      "10.1002_ecs2.4619.pdf → Primer\n",
      "10.1002_ejic.201900904.pdf → Primer\n",
      "10.1002_ejoc.202000139.pdf → Primer\n",
      "10.1002_ejoc.202000916.pdf → Primer\n",
      "10.1002_esp.5058.pdf → Primer\n",
      "10.1002_esp.5090.pdf → Primer\n",
      "10.1002_mp.14424.pdf → Primer\n",
      "10.1002_nafm.10870.pdf → Primer\n",
      "10.1007_jhep07(2018)134.pdf → Primer\n"
     ]
    }
   ],
   "source": [
    "import os\n",
    "\n",
    "folder_path = \"pdf_folder\"\n",
    "for filename in os.listdir(folder_path):\n",
    "    if filename.endswith(\".pdf\"):\n",
    "        path = os.path.join(folder_path, filename)\n",
    "        label = predict_article(path)\n",
    "        print(f\"{filename} → {label}\")"
   ]
  }
 ],
 "metadata": {
  "kernelspec": {
   "display_name": "Python 3",
   "language": "python",
   "name": "python3"
  },
  "language_info": {
   "codemirror_mode": {
    "name": "ipython",
    "version": 3
   },
   "file_extension": ".py",
   "mimetype": "text/x-python",
   "name": "python",
   "nbconvert_exporter": "python",
   "pygments_lexer": "ipython3",
   "version": "3.13.5"
  }
 },
 "nbformat": 4,
 "nbformat_minor": 5
}
